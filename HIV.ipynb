{
 "cells": [
  {
   "cell_type": "code",
   "execution_count": 23,
   "metadata": {},
   "outputs": [],
   "source": [
    "import pandas as pd\n",
    "import numpy as np"
   ]
  },
  {
   "cell_type": "code",
   "execution_count": 24,
   "metadata": {},
   "outputs": [
    {
     "data": {
      "text/html": [
       "<div>\n",
       "<style scoped>\n",
       "    .dataframe tbody tr th:only-of-type {\n",
       "        vertical-align: middle;\n",
       "    }\n",
       "\n",
       "    .dataframe tbody tr th {\n",
       "        vertical-align: top;\n",
       "    }\n",
       "\n",
       "    .dataframe thead th {\n",
       "        text-align: right;\n",
       "    }\n",
       "</style>\n",
       "<table border=\"1\" class=\"dataframe\">\n",
       "  <thead>\n",
       "    <tr style=\"text-align: right;\">\n",
       "      <th></th>\n",
       "      <th>GHO</th>\n",
       "      <th>PUBLISHSTATE</th>\n",
       "      <th>YEAR</th>\n",
       "      <th>REGION</th>\n",
       "      <th>COUNTRY</th>\n",
       "      <th>Display Value</th>\n",
       "      <th>Numeric</th>\n",
       "      <th>Low</th>\n",
       "      <th>High</th>\n",
       "      <th>Comments</th>\n",
       "    </tr>\n",
       "  </thead>\n",
       "  <tbody>\n",
       "    <tr>\n",
       "      <th>0</th>\n",
       "      <td>HIV_0000000001</td>\n",
       "      <td>PUBLISHED</td>\n",
       "      <td>2000</td>\n",
       "      <td>EMR</td>\n",
       "      <td>AFG</td>\n",
       "      <td>1600 [1000–3500]</td>\n",
       "      <td>1600.0</td>\n",
       "      <td>1000.0</td>\n",
       "      <td>3500.0</td>\n",
       "      <td>NaN</td>\n",
       "    </tr>\n",
       "    <tr>\n",
       "      <th>1</th>\n",
       "      <td>HIV_0000000001</td>\n",
       "      <td>PUBLISHED</td>\n",
       "      <td>2000</td>\n",
       "      <td>EUR</td>\n",
       "      <td>ALB</td>\n",
       "      <td>No data</td>\n",
       "      <td>NaN</td>\n",
       "      <td>NaN</td>\n",
       "      <td>NaN</td>\n",
       "      <td>NaN</td>\n",
       "    </tr>\n",
       "    <tr>\n",
       "      <th>2</th>\n",
       "      <td>HIV_0000000001</td>\n",
       "      <td>PUBLISHED</td>\n",
       "      <td>2000</td>\n",
       "      <td>AFR</td>\n",
       "      <td>BDI</td>\n",
       "      <td>130 000 [110 000–150 000]</td>\n",
       "      <td>130000.0</td>\n",
       "      <td>110000.0</td>\n",
       "      <td>150000.0</td>\n",
       "      <td>NaN</td>\n",
       "    </tr>\n",
       "    <tr>\n",
       "      <th>3</th>\n",
       "      <td>HIV_0000000001</td>\n",
       "      <td>PUBLISHED</td>\n",
       "      <td>2000</td>\n",
       "      <td>AFR</td>\n",
       "      <td>CMR</td>\n",
       "      <td>370 000 [350 000–410 000]</td>\n",
       "      <td>370000.0</td>\n",
       "      <td>350000.0</td>\n",
       "      <td>410000.0</td>\n",
       "      <td>NaN</td>\n",
       "    </tr>\n",
       "    <tr>\n",
       "      <th>4</th>\n",
       "      <td>HIV_0000000001</td>\n",
       "      <td>PUBLISHED</td>\n",
       "      <td>2000</td>\n",
       "      <td>AMR</td>\n",
       "      <td>CAN</td>\n",
       "      <td>No data</td>\n",
       "      <td>NaN</td>\n",
       "      <td>NaN</td>\n",
       "      <td>NaN</td>\n",
       "      <td>NaN</td>\n",
       "    </tr>\n",
       "  </tbody>\n",
       "</table>\n",
       "</div>"
      ],
      "text/plain": [
       "              GHO PUBLISHSTATE  YEAR REGION COUNTRY  \\\n",
       "0  HIV_0000000001    PUBLISHED  2000    EMR     AFG   \n",
       "1  HIV_0000000001    PUBLISHED  2000    EUR     ALB   \n",
       "2  HIV_0000000001    PUBLISHED  2000    AFR     BDI   \n",
       "3  HIV_0000000001    PUBLISHED  2000    AFR     CMR   \n",
       "4  HIV_0000000001    PUBLISHED  2000    AMR     CAN   \n",
       "\n",
       "               Display Value   Numeric       Low      High  Comments  \n",
       "0           1600 [1000–3500]    1600.0    1000.0    3500.0       NaN  \n",
       "1                    No data       NaN       NaN       NaN       NaN  \n",
       "2  130 000 [110 000–150 000]  130000.0  110000.0  150000.0       NaN  \n",
       "3  370 000 [350 000–410 000]  370000.0  350000.0  410000.0       NaN  \n",
       "4                    No data       NaN       NaN       NaN       NaN  "
      ]
     },
     "execution_count": 24,
     "metadata": {},
     "output_type": "execute_result"
    }
   ],
   "source": [
    "data = pd.read_csv(\"data_coded.csv\")\n",
    "data.head()"
   ]
  },
  {
   "cell_type": "code",
   "execution_count": 26,
   "metadata": {},
   "outputs": [
    {
     "ename": "AssertionError",
     "evalue": "",
     "output_type": "error",
     "traceback": [
      "\u001b[0;31m---------------------------------------------------------------------------\u001b[0m",
      "\u001b[0;31mAssertionError\u001b[0m                            Traceback (most recent call last)",
      "\u001b[0;32m<ipython-input-26-f838930c8a7c>\u001b[0m in \u001b[0;36m<module>\u001b[0;34m\u001b[0m\n\u001b[0;32m----> 1\u001b[0;31m \u001b[0;32massert\u001b[0m \u001b[0mdf\u001b[0m\u001b[0;34m[\u001b[0m\u001b[0;34m\"YEAR\"\u001b[0m\u001b[0;34m]\u001b[0m\u001b[0;34m.\u001b[0m\u001b[0mdtypes\u001b[0m \u001b[0;34m==\u001b[0m \u001b[0mstr\u001b[0m\u001b[0;34m\u001b[0m\u001b[0;34m\u001b[0m\u001b[0m\n\u001b[0m",
      "\u001b[0;31mAssertionError\u001b[0m: "
     ]
    }
   ],
   "source": [
    "assert df[\"YEAR\"].dtypes == np.int64"
   ]
  },
  {
   "cell_type": "code",
   "execution_count": 3,
   "metadata": {},
   "outputs": [],
   "source": [
    "#data file is saved as df\n",
    "df = data"
   ]
  },
  {
   "cell_type": "code",
   "execution_count": 5,
   "metadata": {},
   "outputs": [
    {
     "data": {
      "text/html": [
       "<div>\n",
       "<style scoped>\n",
       "    .dataframe tbody tr th:only-of-type {\n",
       "        vertical-align: middle;\n",
       "    }\n",
       "\n",
       "    .dataframe tbody tr th {\n",
       "        vertical-align: top;\n",
       "    }\n",
       "\n",
       "    .dataframe thead th {\n",
       "        text-align: right;\n",
       "    }\n",
       "</style>\n",
       "<table border=\"1\" class=\"dataframe\">\n",
       "  <thead>\n",
       "    <tr style=\"text-align: right;\">\n",
       "      <th></th>\n",
       "      <th>GHO</th>\n",
       "      <th>PUBLISHSTATE</th>\n",
       "      <th>YEAR</th>\n",
       "      <th>REGION</th>\n",
       "      <th>COUNTRY</th>\n",
       "      <th>Display Value</th>\n",
       "      <th>Numeric</th>\n",
       "      <th>Low</th>\n",
       "      <th>High</th>\n",
       "      <th>Comments</th>\n",
       "    </tr>\n",
       "  </thead>\n",
       "  <tbody>\n",
       "    <tr>\n",
       "      <th>0</th>\n",
       "      <td>HIV_0000000001</td>\n",
       "      <td>PUBLISHED</td>\n",
       "      <td>2000</td>\n",
       "      <td>EMR</td>\n",
       "      <td>AFG</td>\n",
       "      <td>1600 [1000–3500]</td>\n",
       "      <td>1600.0</td>\n",
       "      <td>1000.0</td>\n",
       "      <td>3500.0</td>\n",
       "      <td>NaN</td>\n",
       "    </tr>\n",
       "    <tr>\n",
       "      <th>1</th>\n",
       "      <td>HIV_0000000001</td>\n",
       "      <td>PUBLISHED</td>\n",
       "      <td>2000</td>\n",
       "      <td>EUR</td>\n",
       "      <td>ALB</td>\n",
       "      <td>No data</td>\n",
       "      <td>NaN</td>\n",
       "      <td>NaN</td>\n",
       "      <td>NaN</td>\n",
       "      <td>NaN</td>\n",
       "    </tr>\n",
       "    <tr>\n",
       "      <th>2</th>\n",
       "      <td>HIV_0000000001</td>\n",
       "      <td>PUBLISHED</td>\n",
       "      <td>2000</td>\n",
       "      <td>AFR</td>\n",
       "      <td>BDI</td>\n",
       "      <td>130 000 [110 000–150 000]</td>\n",
       "      <td>130000.0</td>\n",
       "      <td>110000.0</td>\n",
       "      <td>150000.0</td>\n",
       "      <td>NaN</td>\n",
       "    </tr>\n",
       "    <tr>\n",
       "      <th>3</th>\n",
       "      <td>HIV_0000000001</td>\n",
       "      <td>PUBLISHED</td>\n",
       "      <td>2000</td>\n",
       "      <td>AFR</td>\n",
       "      <td>CMR</td>\n",
       "      <td>370 000 [350 000–410 000]</td>\n",
       "      <td>370000.0</td>\n",
       "      <td>350000.0</td>\n",
       "      <td>410000.0</td>\n",
       "      <td>NaN</td>\n",
       "    </tr>\n",
       "    <tr>\n",
       "      <th>4</th>\n",
       "      <td>HIV_0000000001</td>\n",
       "      <td>PUBLISHED</td>\n",
       "      <td>2000</td>\n",
       "      <td>AMR</td>\n",
       "      <td>CAN</td>\n",
       "      <td>No data</td>\n",
       "      <td>NaN</td>\n",
       "      <td>NaN</td>\n",
       "      <td>NaN</td>\n",
       "      <td>NaN</td>\n",
       "    </tr>\n",
       "  </tbody>\n",
       "</table>\n",
       "</div>"
      ],
      "text/plain": [
       "              GHO PUBLISHSTATE  YEAR REGION COUNTRY  \\\n",
       "0  HIV_0000000001    PUBLISHED  2000    EMR     AFG   \n",
       "1  HIV_0000000001    PUBLISHED  2000    EUR     ALB   \n",
       "2  HIV_0000000001    PUBLISHED  2000    AFR     BDI   \n",
       "3  HIV_0000000001    PUBLISHED  2000    AFR     CMR   \n",
       "4  HIV_0000000001    PUBLISHED  2000    AMR     CAN   \n",
       "\n",
       "               Display Value   Numeric       Low      High  Comments  \n",
       "0           1600 [1000–3500]    1600.0    1000.0    3500.0       NaN  \n",
       "1                    No data       NaN       NaN       NaN       NaN  \n",
       "2  130 000 [110 000–150 000]  130000.0  110000.0  150000.0       NaN  \n",
       "3  370 000 [350 000–410 000]  370000.0  350000.0  410000.0       NaN  \n",
       "4                    No data       NaN       NaN       NaN       NaN  "
      ]
     },
     "execution_count": 5,
     "metadata": {},
     "output_type": "execute_result"
    }
   ],
   "source": [
    "#Created new file so that I can select only few columns from the original file\n",
    "df1= df\n",
    "df1.head()"
   ]
  },
  {
   "cell_type": "code",
   "execution_count": 6,
   "metadata": {},
   "outputs": [],
   "source": [
    "df1 = df1[['YEAR', 'REGION','COUNTRY', 'Numeric']]"
   ]
  },
  {
   "cell_type": "code",
   "execution_count": 7,
   "metadata": {},
   "outputs": [
    {
     "data": {
      "text/html": [
       "<div>\n",
       "<style scoped>\n",
       "    .dataframe tbody tr th:only-of-type {\n",
       "        vertical-align: middle;\n",
       "    }\n",
       "\n",
       "    .dataframe tbody tr th {\n",
       "        vertical-align: top;\n",
       "    }\n",
       "\n",
       "    .dataframe thead th {\n",
       "        text-align: right;\n",
       "    }\n",
       "</style>\n",
       "<table border=\"1\" class=\"dataframe\">\n",
       "  <thead>\n",
       "    <tr style=\"text-align: right;\">\n",
       "      <th></th>\n",
       "      <th>YEAR</th>\n",
       "      <th>REGION</th>\n",
       "      <th>COUNTRY</th>\n",
       "      <th>Numeric</th>\n",
       "    </tr>\n",
       "  </thead>\n",
       "  <tbody>\n",
       "    <tr>\n",
       "      <th>0</th>\n",
       "      <td>2000</td>\n",
       "      <td>EMR</td>\n",
       "      <td>AFG</td>\n",
       "      <td>1600.0</td>\n",
       "    </tr>\n",
       "    <tr>\n",
       "      <th>1</th>\n",
       "      <td>2000</td>\n",
       "      <td>EUR</td>\n",
       "      <td>ALB</td>\n",
       "      <td>NaN</td>\n",
       "    </tr>\n",
       "    <tr>\n",
       "      <th>2</th>\n",
       "      <td>2000</td>\n",
       "      <td>AFR</td>\n",
       "      <td>BDI</td>\n",
       "      <td>130000.0</td>\n",
       "    </tr>\n",
       "    <tr>\n",
       "      <th>3</th>\n",
       "      <td>2000</td>\n",
       "      <td>AFR</td>\n",
       "      <td>CMR</td>\n",
       "      <td>370000.0</td>\n",
       "    </tr>\n",
       "    <tr>\n",
       "      <th>4</th>\n",
       "      <td>2000</td>\n",
       "      <td>AMR</td>\n",
       "      <td>CAN</td>\n",
       "      <td>NaN</td>\n",
       "    </tr>\n",
       "  </tbody>\n",
       "</table>\n",
       "</div>"
      ],
      "text/plain": [
       "   YEAR REGION COUNTRY   Numeric\n",
       "0  2000    EMR     AFG    1600.0\n",
       "1  2000    EUR     ALB       NaN\n",
       "2  2000    AFR     BDI  130000.0\n",
       "3  2000    AFR     CMR  370000.0\n",
       "4  2000    AMR     CAN       NaN"
      ]
     },
     "execution_count": 7,
     "metadata": {},
     "output_type": "execute_result"
    }
   ],
   "source": [
    "df1.head()"
   ]
  },
  {
   "cell_type": "code",
   "execution_count": 8,
   "metadata": {},
   "outputs": [
    {
     "data": {
      "text/html": [
       "<div>\n",
       "<style scoped>\n",
       "    .dataframe tbody tr th:only-of-type {\n",
       "        vertical-align: middle;\n",
       "    }\n",
       "\n",
       "    .dataframe tbody tr th {\n",
       "        vertical-align: top;\n",
       "    }\n",
       "\n",
       "    .dataframe thead th {\n",
       "        text-align: right;\n",
       "    }\n",
       "</style>\n",
       "<table border=\"1\" class=\"dataframe\">\n",
       "  <thead>\n",
       "    <tr style=\"text-align: right;\">\n",
       "      <th></th>\n",
       "      <th>YEAR</th>\n",
       "      <th>REGION</th>\n",
       "      <th>COUNTRY</th>\n",
       "      <th>Numeric</th>\n",
       "    </tr>\n",
       "  </thead>\n",
       "  <tbody>\n",
       "    <tr>\n",
       "      <th>0</th>\n",
       "      <td>2000</td>\n",
       "      <td>EMR</td>\n",
       "      <td>AFG</td>\n",
       "      <td>1600.0</td>\n",
       "    </tr>\n",
       "    <tr>\n",
       "      <th>2</th>\n",
       "      <td>2000</td>\n",
       "      <td>AFR</td>\n",
       "      <td>BDI</td>\n",
       "      <td>130000.0</td>\n",
       "    </tr>\n",
       "    <tr>\n",
       "      <th>3</th>\n",
       "      <td>2000</td>\n",
       "      <td>AFR</td>\n",
       "      <td>CMR</td>\n",
       "      <td>370000.0</td>\n",
       "    </tr>\n",
       "    <tr>\n",
       "      <th>5</th>\n",
       "      <td>2000</td>\n",
       "      <td>AFR</td>\n",
       "      <td>CPV</td>\n",
       "      <td>1600.0</td>\n",
       "    </tr>\n",
       "    <tr>\n",
       "      <th>6</th>\n",
       "      <td>2000</td>\n",
       "      <td>AFR</td>\n",
       "      <td>CAF</td>\n",
       "      <td>160000.0</td>\n",
       "    </tr>\n",
       "  </tbody>\n",
       "</table>\n",
       "</div>"
      ],
      "text/plain": [
       "   YEAR REGION COUNTRY   Numeric\n",
       "0  2000    EMR     AFG    1600.0\n",
       "2  2000    AFR     BDI  130000.0\n",
       "3  2000    AFR     CMR  370000.0\n",
       "5  2000    AFR     CPV    1600.0\n",
       "6  2000    AFR     CAF  160000.0"
      ]
     },
     "execution_count": 8,
     "metadata": {},
     "output_type": "execute_result"
    }
   ],
   "source": [
    "#To remove NaN that has no data from the countries were removed\n",
    "df1 = df1.dropna()\n",
    "df1.head()"
   ]
  },
  {
   "cell_type": "code",
   "execution_count": 9,
   "metadata": {},
   "outputs": [],
   "source": [
    "import seaborn as sns\n",
    "import matplotlib.pyplot as plt"
   ]
  },
  {
   "cell_type": "code",
   "execution_count": 10,
   "metadata": {},
   "outputs": [
    {
     "data": {
      "text/plain": [
       "<seaborn.axisgrid.FacetGrid at 0x1a15957550>"
      ]
     },
     "execution_count": 10,
     "metadata": {},
     "output_type": "execute_result"
    },
    {
     "data": {
      "image/png": "[encoded data removed]",
      "text/plain": [
       "<Figure size 360x360 with 1 Axes>"
      ]
     },
     "metadata": {
      "needs_background": "light"
     },
     "output_type": "display_data"
    }
   ],
   "source": [
    "#To see the distribution of incidence of HIV based on the years\n",
    "sns.catplot(x=\"YEAR\", y=\"Numeric\", data=df1)"
   ]
  },
  {
   "cell_type": "code",
   "execution_count": 11,
   "metadata": {},
   "outputs": [
    {
     "data": {
      "text/plain": [
       "<seaborn.axisgrid.FacetGrid at 0x1127bdb00>"
      ]
     },
     "execution_count": 11,
     "metadata": {},
     "output_type": "execute_result"
    },
    {
     "data": {
      "image/png": "[encoded data removed]",
      "text/plain": [
       "<Figure size 360x360 with 1 Axes>"
      ]
     },
     "metadata": {
      "needs_background": "light"
     },
     "output_type": "display_data"
    }
   ],
   "source": [
    "#Next addressed which part of the world has more HIV cases\n",
    "sns.catplot(x=\"REGION\", y=\"Numeric\", kind = \"swarm\", data=df1)"
   ]
  },
  {
   "cell_type": "code",
   "execution_count": 12,
   "metadata": {},
   "outputs": [
    {
     "data": {
      "text/plain": [
       "<seaborn.axisgrid.FacetGrid at 0x1a17ab2780>"
      ]
     },
     "execution_count": 12,
     "metadata": {},
     "output_type": "execute_result"
    },
    {
     "data": {
      "image/png": "[encoded data removed]",
      "text/plain": [
       "<Figure size 360x360 with 1 Axes>"
      ]
     },
     "metadata": {
      "needs_background": "light"
     },
     "output_type": "display_data"
    }
   ],
   "source": [
    "#The data shows that Africa has more incidence compared to other parts of\n",
    "#the world. Just for clarification I tried to compare which country in Africa \n",
    "# has more HIV cases\n",
    "sns.catplot(x=\"COUNTRY\", y=\"Numeric\", kind = \"box\", data=df1)"
   ]
  },
  {
   "cell_type": "code",
   "execution_count": 13,
   "metadata": {},
   "outputs": [],
   "source": [
    "#since it is difficult to know which countries has more incidence I selected \n",
    "#the population which has more than 1000000 incidences\n",
    "df2 = df1[df1['Numeric']>1000000]"
   ]
  },
  {
   "cell_type": "code",
   "execution_count": 14,
   "metadata": {},
   "outputs": [
    {
     "data": {
      "text/html": [
       "<div>\n",
       "<style scoped>\n",
       "    .dataframe tbody tr th:only-of-type {\n",
       "        vertical-align: middle;\n",
       "    }\n",
       "\n",
       "    .dataframe tbody tr th {\n",
       "        vertical-align: top;\n",
       "    }\n",
       "\n",
       "    .dataframe thead th {\n",
       "        text-align: right;\n",
       "    }\n",
       "</style>\n",
       "<table border=\"1\" class=\"dataframe\">\n",
       "  <thead>\n",
       "    <tr style=\"text-align: right;\">\n",
       "      <th></th>\n",
       "      <th>YEAR</th>\n",
       "      <th>REGION</th>\n",
       "      <th>COUNTRY</th>\n",
       "      <th>Numeric</th>\n",
       "    </tr>\n",
       "  </thead>\n",
       "  <tbody>\n",
       "    <tr>\n",
       "      <th>83</th>\n",
       "      <td>2000</td>\n",
       "      <td>AFR</td>\n",
       "      <td>KEN</td>\n",
       "      <td>1700000.0</td>\n",
       "    </tr>\n",
       "    <tr>\n",
       "      <th>114</th>\n",
       "      <td>2000</td>\n",
       "      <td>AFR</td>\n",
       "      <td>NGA</td>\n",
       "      <td>1300000.0</td>\n",
       "    </tr>\n",
       "    <tr>\n",
       "      <th>140</th>\n",
       "      <td>2000</td>\n",
       "      <td>AFR</td>\n",
       "      <td>ZAF</td>\n",
       "      <td>3300000.0</td>\n",
       "    </tr>\n",
       "    <tr>\n",
       "      <th>161</th>\n",
       "      <td>2000</td>\n",
       "      <td>AFR</td>\n",
       "      <td>TZA</td>\n",
       "      <td>1100000.0</td>\n",
       "    </tr>\n",
       "    <tr>\n",
       "      <th>169</th>\n",
       "      <td>2000</td>\n",
       "      <td>AFR</td>\n",
       "      <td>ZWE</td>\n",
       "      <td>1600000.0</td>\n",
       "    </tr>\n",
       "    <tr>\n",
       "      <th>252</th>\n",
       "      <td>2005</td>\n",
       "      <td>AFR</td>\n",
       "      <td>KEN</td>\n",
       "      <td>1500000.0</td>\n",
       "    </tr>\n",
       "    <tr>\n",
       "      <th>289</th>\n",
       "      <td>2005</td>\n",
       "      <td>AFR</td>\n",
       "      <td>MOZ</td>\n",
       "      <td>1200000.0</td>\n",
       "    </tr>\n",
       "    <tr>\n",
       "      <th>297</th>\n",
       "      <td>2005</td>\n",
       "      <td>AFR</td>\n",
       "      <td>NGA</td>\n",
       "      <td>1400000.0</td>\n",
       "    </tr>\n",
       "    <tr>\n",
       "      <th>310</th>\n",
       "      <td>2005</td>\n",
       "      <td>AFR</td>\n",
       "      <td>ZAF</td>\n",
       "      <td>5000000.0</td>\n",
       "    </tr>\n",
       "    <tr>\n",
       "      <th>315</th>\n",
       "      <td>2005</td>\n",
       "      <td>AFR</td>\n",
       "      <td>ZWE</td>\n",
       "      <td>1400000.0</td>\n",
       "    </tr>\n",
       "    <tr>\n",
       "      <th>341</th>\n",
       "      <td>2005</td>\n",
       "      <td>AFR</td>\n",
       "      <td>UGA</td>\n",
       "      <td>1100000.0</td>\n",
       "    </tr>\n",
       "    <tr>\n",
       "      <th>345</th>\n",
       "      <td>2005</td>\n",
       "      <td>AFR</td>\n",
       "      <td>TZA</td>\n",
       "      <td>1200000.0</td>\n",
       "    </tr>\n",
       "    <tr>\n",
       "      <th>423</th>\n",
       "      <td>2010</td>\n",
       "      <td>AFR</td>\n",
       "      <td>KEN</td>\n",
       "      <td>1500000.0</td>\n",
       "    </tr>\n",
       "    <tr>\n",
       "      <th>446</th>\n",
       "      <td>2010</td>\n",
       "      <td>AFR</td>\n",
       "      <td>MOZ</td>\n",
       "      <td>1600000.0</td>\n",
       "    </tr>\n",
       "    <tr>\n",
       "      <th>454</th>\n",
       "      <td>2010</td>\n",
       "      <td>AFR</td>\n",
       "      <td>NGA</td>\n",
       "      <td>1500000.0</td>\n",
       "    </tr>\n",
       "    <tr>\n",
       "      <th>480</th>\n",
       "      <td>2010</td>\n",
       "      <td>AFR</td>\n",
       "      <td>ZAF</td>\n",
       "      <td>6100000.0</td>\n",
       "    </tr>\n",
       "    <tr>\n",
       "      <th>497</th>\n",
       "      <td>2010</td>\n",
       "      <td>AFR</td>\n",
       "      <td>UGA</td>\n",
       "      <td>1200000.0</td>\n",
       "    </tr>\n",
       "    <tr>\n",
       "      <th>501</th>\n",
       "      <td>2010</td>\n",
       "      <td>AFR</td>\n",
       "      <td>TZA</td>\n",
       "      <td>1300000.0</td>\n",
       "    </tr>\n",
       "    <tr>\n",
       "      <th>509</th>\n",
       "      <td>2010</td>\n",
       "      <td>AFR</td>\n",
       "      <td>ZWE</td>\n",
       "      <td>1200000.0</td>\n",
       "    </tr>\n",
       "    <tr>\n",
       "      <th>593</th>\n",
       "      <td>2018</td>\n",
       "      <td>AFR</td>\n",
       "      <td>KEN</td>\n",
       "      <td>1600000.0</td>\n",
       "    </tr>\n",
       "    <tr>\n",
       "      <th>616</th>\n",
       "      <td>2018</td>\n",
       "      <td>AFR</td>\n",
       "      <td>MOZ</td>\n",
       "      <td>2200000.0</td>\n",
       "    </tr>\n",
       "    <tr>\n",
       "      <th>624</th>\n",
       "      <td>2018</td>\n",
       "      <td>AFR</td>\n",
       "      <td>NGA</td>\n",
       "      <td>1900000.0</td>\n",
       "    </tr>\n",
       "    <tr>\n",
       "      <th>650</th>\n",
       "      <td>2018</td>\n",
       "      <td>AFR</td>\n",
       "      <td>ZAF</td>\n",
       "      <td>7700000.0</td>\n",
       "    </tr>\n",
       "    <tr>\n",
       "      <th>667</th>\n",
       "      <td>2018</td>\n",
       "      <td>AFR</td>\n",
       "      <td>UGA</td>\n",
       "      <td>1400000.0</td>\n",
       "    </tr>\n",
       "    <tr>\n",
       "      <th>671</th>\n",
       "      <td>2018</td>\n",
       "      <td>AFR</td>\n",
       "      <td>TZA</td>\n",
       "      <td>1600000.0</td>\n",
       "    </tr>\n",
       "    <tr>\n",
       "      <th>678</th>\n",
       "      <td>2018</td>\n",
       "      <td>AFR</td>\n",
       "      <td>ZMB</td>\n",
       "      <td>1200000.0</td>\n",
       "    </tr>\n",
       "    <tr>\n",
       "      <th>679</th>\n",
       "      <td>2018</td>\n",
       "      <td>AFR</td>\n",
       "      <td>ZWE</td>\n",
       "      <td>1300000.0</td>\n",
       "    </tr>\n",
       "  </tbody>\n",
       "</table>\n",
       "</div>"
      ],
      "text/plain": [
       "     YEAR REGION COUNTRY    Numeric\n",
       "83   2000    AFR     KEN  1700000.0\n",
       "114  2000    AFR     NGA  1300000.0\n",
       "140  2000    AFR     ZAF  3300000.0\n",
       "161  2000    AFR     TZA  1100000.0\n",
       "169  2000    AFR     ZWE  1600000.0\n",
       "252  2005    AFR     KEN  1500000.0\n",
       "289  2005    AFR     MOZ  1200000.0\n",
       "297  2005    AFR     NGA  1400000.0\n",
       "310  2005    AFR     ZAF  5000000.0\n",
       "315  2005    AFR     ZWE  1400000.0\n",
       "341  2005    AFR     UGA  1100000.0\n",
       "345  2005    AFR     TZA  1200000.0\n",
       "423  2010    AFR     KEN  1500000.0\n",
       "446  2010    AFR     MOZ  1600000.0\n",
       "454  2010    AFR     NGA  1500000.0\n",
       "480  2010    AFR     ZAF  6100000.0\n",
       "497  2010    AFR     UGA  1200000.0\n",
       "501  2010    AFR     TZA  1300000.0\n",
       "509  2010    AFR     ZWE  1200000.0\n",
       "593  2018    AFR     KEN  1600000.0\n",
       "616  2018    AFR     MOZ  2200000.0\n",
       "624  2018    AFR     NGA  1900000.0\n",
       "650  2018    AFR     ZAF  7700000.0\n",
       "667  2018    AFR     UGA  1400000.0\n",
       "671  2018    AFR     TZA  1600000.0\n",
       "678  2018    AFR     ZMB  1200000.0\n",
       "679  2018    AFR     ZWE  1300000.0"
      ]
     },
     "execution_count": 14,
     "metadata": {},
     "output_type": "execute_result"
    }
   ],
   "source": [
    "df2"
   ]
  },
  {
   "cell_type": "code",
   "execution_count": 15,
   "metadata": {},
   "outputs": [
    {
     "data": {
      "text/plain": [
       "<seaborn.axisgrid.FacetGrid at 0x1a18956240>"
      ]
     },
     "execution_count": 15,
     "metadata": {},
     "output_type": "execute_result"
    },
    {
     "data": {
      "image/png": "[encoded data removed]",
      "text/plain": [
       "<Figure size 360x360 with 1 Axes>"
      ]
     },
     "metadata": {
      "needs_background": "light"
     },
     "output_type": "display_data"
    }
   ],
   "source": [
    "#As observed above all the high incidence is from African continent\n",
    "#again plotted to see which country in Africa has more incidence of HIV\n",
    "sns.catplot(x=\"Numeric\", y=\"COUNTRY\", kind = \"box\", data=df2)"
   ]
  },
  {
   "cell_type": "code",
   "execution_count": 16,
   "metadata": {},
   "outputs": [],
   "source": [
    "# the ZAF referred as South Africa and it has higher incidence of HIV cases \n",
    "#compared to all the other african countries"
   ]
  },
  {
   "cell_type": "code",
   "execution_count": 17,
   "metadata": {},
   "outputs": [],
   "source": [
    "#Next I wanted to check which countries have higher incidence and from which continent\n",
    "# I know I can write a loop function but I used alternative way to create new files\n",
    "df3 = df1[df1['Numeric']<1000000]"
   ]
  },
  {
   "cell_type": "code",
   "execution_count": 18,
   "metadata": {},
   "outputs": [
    {
     "data": {
      "text/html": [
       "<div>\n",
       "<style scoped>\n",
       "    .dataframe tbody tr th:only-of-type {\n",
       "        vertical-align: middle;\n",
       "    }\n",
       "\n",
       "    .dataframe tbody tr th {\n",
       "        vertical-align: top;\n",
       "    }\n",
       "\n",
       "    .dataframe thead th {\n",
       "        text-align: right;\n",
       "    }\n",
       "</style>\n",
       "<table border=\"1\" class=\"dataframe\">\n",
       "  <thead>\n",
       "    <tr style=\"text-align: right;\">\n",
       "      <th></th>\n",
       "      <th>YEAR</th>\n",
       "      <th>REGION</th>\n",
       "      <th>COUNTRY</th>\n",
       "      <th>Numeric</th>\n",
       "    </tr>\n",
       "  </thead>\n",
       "  <tbody>\n",
       "    <tr>\n",
       "      <th>31</th>\n",
       "      <td>2000</td>\n",
       "      <td>AFR</td>\n",
       "      <td>ETH</td>\n",
       "      <td>750000.0</td>\n",
       "    </tr>\n",
       "    <tr>\n",
       "      <th>95</th>\n",
       "      <td>2000</td>\n",
       "      <td>AFR</td>\n",
       "      <td>MWI</td>\n",
       "      <td>810000.0</td>\n",
       "    </tr>\n",
       "    <tr>\n",
       "      <th>106</th>\n",
       "      <td>2000</td>\n",
       "      <td>AFR</td>\n",
       "      <td>MOZ</td>\n",
       "      <td>840000.0</td>\n",
       "    </tr>\n",
       "    <tr>\n",
       "      <th>150</th>\n",
       "      <td>2000</td>\n",
       "      <td>SEAR</td>\n",
       "      <td>THA</td>\n",
       "      <td>740000.0</td>\n",
       "    </tr>\n",
       "    <tr>\n",
       "      <th>168</th>\n",
       "      <td>2000</td>\n",
       "      <td>AFR</td>\n",
       "      <td>ZMB</td>\n",
       "      <td>890000.0</td>\n",
       "    </tr>\n",
       "    <tr>\n",
       "      <th>241</th>\n",
       "      <td>2005</td>\n",
       "      <td>AFR</td>\n",
       "      <td>MWI</td>\n",
       "      <td>820000.0</td>\n",
       "    </tr>\n",
       "    <tr>\n",
       "      <th>314</th>\n",
       "      <td>2005</td>\n",
       "      <td>AFR</td>\n",
       "      <td>ZMB</td>\n",
       "      <td>920000.0</td>\n",
       "    </tr>\n",
       "    <tr>\n",
       "      <th>435</th>\n",
       "      <td>2010</td>\n",
       "      <td>AFR</td>\n",
       "      <td>MWI</td>\n",
       "      <td>870000.0</td>\n",
       "    </tr>\n",
       "    <tr>\n",
       "      <th>502</th>\n",
       "      <td>2010</td>\n",
       "      <td>AMR</td>\n",
       "      <td>USA</td>\n",
       "      <td>990000.0</td>\n",
       "    </tr>\n",
       "    <tr>\n",
       "      <th>531</th>\n",
       "      <td>2018</td>\n",
       "      <td>AMR</td>\n",
       "      <td>BRA</td>\n",
       "      <td>900000.0</td>\n",
       "    </tr>\n",
       "  </tbody>\n",
       "</table>\n",
       "</div>"
      ],
      "text/plain": [
       "     YEAR REGION COUNTRY   Numeric\n",
       "31   2000    AFR     ETH  750000.0\n",
       "95   2000    AFR     MWI  810000.0\n",
       "106  2000    AFR     MOZ  840000.0\n",
       "150  2000   SEAR     THA  740000.0\n",
       "168  2000    AFR     ZMB  890000.0\n",
       "241  2005    AFR     MWI  820000.0\n",
       "314  2005    AFR     ZMB  920000.0\n",
       "435  2010    AFR     MWI  870000.0\n",
       "502  2010    AMR     USA  990000.0\n",
       "531  2018    AMR     BRA  900000.0"
      ]
     },
     "execution_count": 18,
     "metadata": {},
     "output_type": "execute_result"
    }
   ],
   "source": [
    "df4 = df3[df3['Numeric']>700000]\n",
    "df4"
   ]
  },
  {
   "cell_type": "code",
   "execution_count": 19,
   "metadata": {},
   "outputs": [
    {
     "data": {
      "text/plain": [
       "<seaborn.axisgrid.FacetGrid at 0x1a1899ccc0>"
      ]
     },
     "execution_count": 19,
     "metadata": {},
     "output_type": "execute_result"
    },
    {
     "data": {
      "image/png": "[encoded data removed]",
      "text/plain": [
       "<Figure size 360x360 with 1 Axes>"
      ]
     },
     "metadata": {
      "needs_background": "light"
     },
     "output_type": "display_data"
    }
   ],
   "source": [
    "#Well this was scary that USA comes under second category which has higher \n",
    "#incidence of HIV cases.\n",
    "sns.catplot(x=\"COUNTRY\", y=\"Numeric\", kind = \"box\", data=df4)"
   ]
  },
  {
   "cell_type": "code",
   "execution_count": 20,
   "metadata": {},
   "outputs": [
    {
     "data": {
      "text/plain": [
       "<seaborn.axisgrid.FacetGrid at 0x1a18bfc4a8>"
      ]
     },
     "execution_count": 20,
     "metadata": {},
     "output_type": "execute_result"
    },
    {
     "data": {
      "image/png": "[encoded data removed]",
      "text/plain": [
       "<Figure size 360x360 with 1 Axes>"
      ]
     },
     "metadata": {
      "needs_background": "light"
     },
     "output_type": "display_data"
    }
   ],
   "source": [
    "#Since the boxplot is not the right plot, I have generated as swarm plot to \n",
    "#indicate the incidence of HIV cases in the second category\n",
    "sns.catplot(y=\"COUNTRY\", x=\"Numeric\", kind = \"swarm\", data=df4)"
   ]
  },
  {
   "cell_type": "code",
   "execution_count": null,
   "metadata": {},
   "outputs": [],
   "source": []
  }
 ],
 "metadata": {
  "kernelspec": {
   "display_name": "Python 3",
   "language": "python",
   "name": "python3"
  },
  "language_info": {
   "codemirror_mode": {
    "name": "ipython",
    "version": 3
   },
   "file_extension": ".py",
   "mimetype": "text/x-python",
   "name": "python",
   "nbconvert_exporter": "python",
   "pygments_lexer": "ipython3",
   "version": "3.7.3"
  }
 },
 "nbformat": 4,
 "nbformat_minor": 4
}
